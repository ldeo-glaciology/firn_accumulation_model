{
 "cells": [
  {
   "cell_type": "code",
   "execution_count": null,
   "id": "b71919e6-f3c8-43e4-a1d2-2ce49db78ff8",
   "metadata": {},
   "outputs": [],
   "source": [
    "def firn_equations(t, Vars):\n",
    "    \n",
    "    phi = Vars(1:N, :) \n",
    "    r2 = Vars(N+1:2*N, :) \n",
    "    A = Vars(2*N+1:3*N, :) \n",
    "    T = Vars(3*N+1:4*N, :)     \n",
    "    H = Vars(4*N+1, :) \n",
    "        \n",
    "### Compute gradients.\n",
    "    dphidz = D1*phi \n",
    "    dr2dz = D1*r2 \n",
    "    dAdz = D1*A \n",
    "\n",
    "### Compute stress.\n",
    "    s_int = H*(1 - phi) \n",
    "    sigma = cumtrapz(z_h, s_int) \n",
    "    \n",
    "### Compute the ice velocity.\n",
    "    v_int = -(H/Ar).*sigma.**n.*phi.**m.*exp(lambda_c*T)./r2 \n",
    "    w = cumtrapz(z_h, v_int) + 1*w_s \n",
    "\n",
    "### Column height.\n",
    "    dHdt = w(end) - beta/(1 - phi(end))    \n",
    "    \n",
    "### Change in porosity.\n",
    "    dphidt = (1/H)*(D1*((1 - phi).*w) + dHdt*z_h.*dphidz) \n",
    "\n",
    "### Change in square of the grain size.\n",
    "    if sim_r   # (only if sim_r ==1) \n",
    "        dr2dt = (1/H)*(dHdt*z_h - w).*dr2dz + (1 - delta*r2).*exp(lambda_g*T) \n",
    "    else\n",
    "        dr2dt = zeros(N,1) \n",
    "        \n",
    "\n",
    "### Change in temperature.\n",
    "    dTdt = zeros(N,1) \n",
    "    \n",
    "### Change in age.\n",
    "    dAdt = 1 + (1/H)*(dHdt*z_h - w).*dAdz \n",
    "#    dAdt = zeros(N,1) \n",
    "    \n",
    "### Upper surface boundary conditions.\n",
    "    dphidt(1) = 0 \n",
    "    dr2dt(1) = 0 \n",
    "    dAdt(1) = 0 \n",
    "\n",
    "### Collected ODE vector.    \n",
    "    dVarsdt = [dphidt  dr2dt  dAdt  dTdt  dHdt] \n"
   ]
  },
  {
   "cell_type": "code",
   "execution_count": 45,
   "id": "a414cf99-6bc2-42b1-9467-db43d865780e",
   "metadata": {},
   "outputs": [
    {
     "name": "stdout",
     "output_type": "stream",
     "text": [
      "[100.  99.  98.  97.  96.  95.  94.  93.  92.  91.  90.  89.  88.  87.\n",
      "  86.  85.  84.  83.  82.  81.  80.  79.  78.  77.  76.  75.  74.  73.\n",
      "  72.  71.  70.  69.  68.  67.  66.  65.  64.  63.  62.  61.  60.  59.\n",
      "  58.  57.  56.  55.  54.  53.  52.  51.  50.  49.  48.  47.  46.  45.\n",
      "  44.  43.  42.  41.  40.  39.  38.  37.  36.  35.  34.  33.  32.  31.\n",
      "  30.  29.  28.  27.  26.  25.  24.  23.  22.  21.  20.  19.  18.  17.\n",
      "  16.  15.  14.  13.  12.  11.  10.   9.   8.   7.   6.   5.   4.   3.\n",
      "   2.   1.   0.]\n"
     ]
    }
   ],
   "source": [
    "class fs:   # short for firn simulation\n",
    "    \"\"\"The Doc String for this class\"\"\"\n",
    "    \n",
    "\n",
    "\n",
    "    \n",
    "    def __init__(self,sim_label):\n",
    "        import numpy as np\n",
    "        self.sim_label = sim_label\n",
    "        self.p = {}\n",
    "        \n",
    "    \n",
    "    def setup(self,**kwargs):\n",
    "        import numpy as np\n",
    "        \n",
    "        \n",
    "        # 1. define default paramaters   \n",
    "        self.p['b0_mpy'] = 0.1\n",
    "        self.p['beta'] = 1\n",
    "        self.p['nu'] = 1\n",
    "        self.p['T_s_dim'] = 253.15\n",
    "        self.p['plotting'] = 1\n",
    "        self.p['saving_xt'] = 1\n",
    "        self.p['plotting_period'] = 3000\n",
    "        self.p['sampling_period'] = 20\n",
    "        self.p['dz'] = 0.01\n",
    "        self.p['t_total'] = 20\n",
    "        self.p['save_dir'] = 'results_scratch'\n",
    "        self.p['save'] = 1\n",
    "        self.p['sim_T'] = True\n",
    "        self.p['sim_r'] = True\n",
    "        self.p['PauseGrainEvolution_t'] = np.nan\n",
    "        self.p['z0'] = 100\n",
    "        self.p['r_s_dim'] = 2.5000e-07   # grain size at the surface (0.5 mm)**2 \n",
    "        self.p['phi_s'] = 0.5   \n",
    "        self.p['n'] = 1\n",
    "        self.p['simDuration'] = 10\n",
    "        self.p['scaleDuration'] = False\n",
    "        \n",
    "        # 2. Replace any parameters that are defined by the user (in kwargs) \n",
    "        for key, values in kwargs.items():\n",
    "            self.p[key] = values\n",
    "            \n",
    "            \n",
    "        # 3. Define (or extract rom self.p) the dimensional parameters of the system.\n",
    "        b0_mpy = self.p['b0_mpy']        # ice equivalent accumulation rate [m / yr]\n",
    "        T_s_dim = self.p['T_s_dim']      # upper surface temperature [K]\n",
    "        z_0 = self.p['z0']               # initial column height [m]\n",
    "        dz_dim = self.p['dz']*z_0        # dimensional numerical grid spacing [m]\n",
    "        r2_s_dim = self.p['r_s_dim']     # upper surface grain size [m**2] (0.5 mm)**2 \n",
    "        r2_f = 0.01**2                        # maximum grain size [m**2] (1 cm)**2 \n",
    "        phi_s = self.p['phi_s']          # upper surface porosity\n",
    "        c_i = 2009                            # heat capacity [J / (kg K)]\n",
    "        E_c = 60e3                            # compaction activation energy [J]\n",
    "        E_g = 42e3                            # grain growth activation energy [J]\n",
    "        k_c = 9.2e-9                          # flow parameter [kg?1 m3 s] from Arthern kc\n",
    "        k_g = 1.3e-7/r2_f                     # grain growth rate constant [m**2 / s]\n",
    "        m = 1                                 # porosity exponent\n",
    "        n = self.p['n']                  # stress exponent\n",
    "        kappa_0 = 2.1                         # thermal conductivity [W / (m K)], # arthern and wingham 1998 pg. 18\n",
    "        G = 0.05                              # geothermal heat flux  [W/m**2]\n",
    "       \n",
    "        ## 4. Constants, scales and parameters\n",
    "        ### 4.1 constants\n",
    "        g = 9.81                           # acceleration due to gravity [m s**-2]\n",
    "        spy = 24*365*3600                  # seconds per year\n",
    "        R = 8.31                           # ideal gas constant\n",
    "        rho_i = 918                        # ice density [kg / m**3]\n",
    "\n",
    "        ### 4.2 Scaling parameters.\n",
    "        b_0 = b0_mpy/spy \n",
    "        h_0 = z_0 \n",
    "        r2_0 = (h_0*k_g*r2_f/b_0)*np.exp(-E_g/(R*T_s_dim)) \n",
    "        t_0 = h_0/b_0 \n",
    "        T_0 = G*z_0/kappa_0 \n",
    "        sigma_0 = g*rho_i*h_0 \n",
    "        w_0 = b_0                 # scale of the vertical velocity is the accumulation rate\n",
    "\n",
    "\n",
    "        ### 4.3 Non-dimensional parameters.\n",
    "        lambda_c = E_c*T_0/(R*T_s_dim**2.0) \n",
    "        lambda_g = E_g*T_0/(R*T_s_dim**2.0) \n",
    "        gamma = (sigma_0/4.0)**(1-n)    # factor to account for non-linear rheology, under the default value of n = 1, gamma = 1 and it has no effect on the value of Ar\n",
    "        Ar = r2_0/(k_c*t_0*sigma_0**np.exp(-E_c/(R*T_s_dim)))/gamma  # Arthern number\n",
    "        Fl = h_0*G/(kappa_0*T_0) \n",
    "        Pe = rho_i*c_i*b_0*h_0/kappa_0 \n",
    "        beta = self.p['beta'] \n",
    "        delta = r2_0/r2_f \n",
    "        nu = self.p['n']       # accumulation multiplier\n",
    "\n",
    "        ## 5. Compute vertical velocity upper biundary conditon\n",
    "        w_s = nu*beta/(1 - phi_s)  \n",
    "\n",
    "        ## 6. Set up real space grid in height coordinates.\n",
    "        z_init = np.arange(z_0,-dz_dim,-dz_dim)\n",
    "        N = z_init.size\n",
    "        \n",
    "        ### Normalized depth coordinates.\n",
    "        z_h = np.flip(z_init)/z_0 \n",
    "\n",
    "        ## 7. Initial conditions\n",
    "        ### Initial porosity\n",
    "        phi_init = (1-z_h)*phi_s \n",
    "\n",
    "        ### Dimensional  grain size squared.\n",
    "        if self.p['sim_r']:\n",
    "            r2_hat_init = r2_s_dim/r2_0 + z_h \n",
    "        else:\n",
    "            r2_hat_init = r2_s_dim/r2_0 + 0*z_h \n",
    "        \n",
    "\n",
    "        ### Dimensionless temperature (mostly not used)\n",
    "        T_hat_init = np.zeros(N) \n",
    "\n",
    "        ### Dimensionless firn age.\n",
    "        A_hat_init = z_h \n",
    "\n",
    "        ### Initial conditions vector.\n",
    "        #Vars_init = [phi_init  r2_hat_init  A_hat_init  T_hat_init  z_0/h_0] \n",
    "\n",
    "        ## 8. Define gradient operator\n",
    "        ### Finite difference gradient operator using three point upwind scheme.\n",
    "        #D1 = two_point_upwind_uni_D1(z_h(1), z_h(end), N, 1) \n",
    "\n",
    "        ## 9. Save outputs for use at the solution stage\n",
    "\n",
    "        # 10. Add the newly created values to p\n",
    "        self.p['GridNumber'] = N \n",
    "        #self.p['Gradient'] = D1\n",
    "        self.p['spy'] = spy \n",
    "        self.p['lambda_c'] = lambda_c \n",
    "        self.p['lambda_g'] = lambda_g \n",
    "        self.p['PecletNumber'] = Pe \n",
    "        self.p['FluxNumber'] = Fl \n",
    "        self.p['ArthenNumber'] = Ar \n",
    "        #self.p['InitialConditions'] = Vars_init \n",
    "         \n",
    "    def run(self):\n",
    "        from scipy.integrate import solve_bvp\n",
    "        \n",
    "        if p.scaleDuration\n",
    "            time = [0 p.simDuration/beta];\n",
    "        else \n",
    "            time = [0 p.simDuration];\n",
    "\n",
    "\n",
    "### Solve the system\n",
    "\n",
    "        #options = odeset('Events', @SteadyState, 'RelTol',1e-8,'AbsTol', 1e-8);\n",
    "        #[Time, Vars] = ode15s(@GovEq, time, Vars_init, options);\n",
    "                sol = solve_bvp(firn_equations, bc_N,x,y,tol=0.00000001,bc_tol=0.00000001,verbose=2,max_nodes=10000)\n",
    "\n",
    "        ### Collect the simulation variables.\n",
    "        Phi = Vars(:, 1:N)';\n",
    "        Rho = p.rho_i*(1 - Phi);\n",
    "        GrainSize = Vars(:, N+1:2*N)';\n",
    "        Age = Vars(:, 2*N+1:3*N)';\n",
    "        Temp = Vars(:, 3*N+1:4*N)';\n",
    "        Height = Vars(:,4*N+1);\n",
    "\n",
    "        ### Un-normalized depth coordinates\n",
    "        Depth = p.h_0*repmat(Height', N, 1)*repmat(z_h, 1, numel(Time));\n",
    "\n",
    "        ### Compute the firn thickness as a function of time\n",
    "        zeta830final = interp1(Phi(:,end),Depth(:,end)/p.h_0,1-830/p.rho_i);  # normalized\n",
    "\n",
    "\n",
    "        ### Compute normalized ice velocity\n",
    "        W = nan(N, numel(Time));\n",
    "        Mass = nan(numel(Time),1);\n",
    "        for i = 1:numel(Time)\n",
    "            S_int = Height(i,1).*(1 - Phi(:,i));\n",
    "            Sigma = cumtrapz(z_h, S_int);\n",
    "            V_int = -(Height(i,1)/Ar).*Sigma.**n.*Phi(:,i).**m...\n",
    "                .*exp(lambda_c*Temp(:,i))./GrainSize(:,i);\n",
    "            W(:,i) = cumtrapz(z_h, V_int) + w_s;\n",
    "\n",
    "        ### Compute mass in the column.\n",
    "            Mass(i) = trapz(Depth(:,i), 1 - Phi(:,i));\n",
    "        end\n",
    "\n",
    "        ### Create output stucture.\n",
    "        Out = struct('Time', Time, 'Rho', Rho, 'Temp', Temp, 'GrainSize', GrainSize,...\n",
    "            'Sigma', Sigma, 'Phi', Phi, 'Age', Age, 'Depth', Depth, 'W', W, 'p', p,...\n",
    "            'H', Height, 'Mass', Mass, 'zeta830final',zeta830final);\n",
    "        \n",
    "        \n",
    "        \n",
    "\n",
    "    \n",
    "s1 = fs('figure_1_run')\n",
    "s1.setup()\n",
    "\n",
    "    "
   ]
  },
  {
   "cell_type": "code",
   "execution_count": 44,
   "id": "ec7f02fa-80c1-4334-b4b3-833661523288",
   "metadata": {},
   "outputs": [
    {
     "data": {
      "text/plain": [
       "1001"
      ]
     },
     "execution_count": 44,
     "metadata": {},
     "output_type": "execute_result"
    }
   ],
   "source": [
    "len(s1.params['z_h'])"
   ]
  },
  {
   "cell_type": "code",
   "execution_count": 208,
   "id": "687b0e2b-fd45-4866-b79b-6fc38e44b7da",
   "metadata": {},
   "outputs": [
    {
     "ename": "TypeError",
     "evalue": "unsupported operand type(s) for ^: 'float' and 'int'",
     "output_type": "error",
     "traceback": [
      "\u001b[0;31m---------------------------------------------------------------------------\u001b[0m",
      "\u001b[0;31mTypeError\u001b[0m                                 Traceback (most recent call last)",
      "\u001b[0;32m/var/folders/gc/hfy654314d3gzj39h27fdx0r0000gn/T/ipykernel_9061/1723177131.py\u001b[0m in \u001b[0;36m<module>\u001b[0;34m\u001b[0m\n\u001b[0;32m----> 1\u001b[0;31m \u001b[0ms1\u001b[0m\u001b[0;34m.\u001b[0m\u001b[0msetup\u001b[0m\u001b[0;34m(\u001b[0m\u001b[0mm\u001b[0m\u001b[0;34m=\u001b[0m\u001b[0;34m'new_m'\u001b[0m\u001b[0;34m,\u001b[0m\u001b[0mn\u001b[0m\u001b[0;34m=\u001b[0m\u001b[0;34m'new_n'\u001b[0m\u001b[0;34m,\u001b[0m\u001b[0mr_s_sim\u001b[0m \u001b[0;34m=\u001b[0m \u001b[0;34m'new_value'\u001b[0m\u001b[0;34m)\u001b[0m\u001b[0;34m\u001b[0m\u001b[0;34m\u001b[0m\u001b[0m\n\u001b[0m",
      "\u001b[0;32m/var/folders/gc/hfy654314d3gzj39h27fdx0r0000gn/T/ipykernel_9061/4116412976.py\u001b[0m in \u001b[0;36msetup\u001b[0;34m(self, **kwargs)\u001b[0m\n\u001b[1;32m     80\u001b[0m \u001b[0;34m\u001b[0m\u001b[0m\n\u001b[1;32m     81\u001b[0m         \u001b[0;31m### Non-dimensional parameters.\u001b[0m\u001b[0;34m\u001b[0m\u001b[0;34m\u001b[0m\u001b[0m\n\u001b[0;32m---> 82\u001b[0;31m         \u001b[0mlambda_c\u001b[0m \u001b[0;34m=\u001b[0m \u001b[0mE_c\u001b[0m\u001b[0;34m*\u001b[0m\u001b[0mT_0\u001b[0m\u001b[0;34m/\u001b[0m\u001b[0;34m(\u001b[0m\u001b[0mR\u001b[0m\u001b[0;34m*\u001b[0m\u001b[0mT_s_dim\u001b[0m\u001b[0;34m^\u001b[0m\u001b[0;36m2\u001b[0m\u001b[0;34m)\u001b[0m\u001b[0;34m;\u001b[0m\u001b[0;34m\u001b[0m\u001b[0;34m\u001b[0m\u001b[0m\n\u001b[0m\u001b[1;32m     83\u001b[0m         \u001b[0mlambda_g\u001b[0m \u001b[0;34m=\u001b[0m \u001b[0mE_g\u001b[0m\u001b[0;34m*\u001b[0m\u001b[0mT_0\u001b[0m\u001b[0;34m/\u001b[0m\u001b[0;34m(\u001b[0m\u001b[0mR\u001b[0m\u001b[0;34m*\u001b[0m\u001b[0mT_s_dim\u001b[0m\u001b[0;34m^\u001b[0m\u001b[0;36m2\u001b[0m\u001b[0;34m)\u001b[0m\u001b[0;34m;\u001b[0m\u001b[0;34m\u001b[0m\u001b[0;34m\u001b[0m\u001b[0m\n\u001b[1;32m     84\u001b[0m         \u001b[0mgamma\u001b[0m \u001b[0;34m=\u001b[0m \u001b[0;34m(\u001b[0m\u001b[0msigma_0\u001b[0m\u001b[0;34m/\u001b[0m\u001b[0;36m4\u001b[0m\u001b[0;34m)\u001b[0m\u001b[0;34m**\u001b[0m\u001b[0;34m(\u001b[0m\u001b[0;36m1\u001b[0m\u001b[0;34m-\u001b[0m\u001b[0mn\u001b[0m\u001b[0;34m)\u001b[0m\u001b[0;34m;\u001b[0m   \u001b[0;31m# factor to account for non-linear rheology, under the default value of n = 1, gamma = 1 and it has no effect on the value of Ar\u001b[0m\u001b[0;34m\u001b[0m\u001b[0;34m\u001b[0m\u001b[0m\n",
      "\u001b[0;31mTypeError\u001b[0m: unsupported operand type(s) for ^: 'float' and 'int'"
     ]
    }
   ],
   "source": [
    "s1.setup(m='new_m',n='new_n',r_s_sim = 'new_value')\n"
   ]
  },
  {
   "cell_type": "code",
   "execution_count": 183,
   "id": "154bd1ad-1048-424d-9436-5a913f91eb87",
   "metadata": {},
   "outputs": [
    {
     "data": {
      "text/plain": [
       "{'b0_mpy': 0.1,\n",
       " 'beta': 1,\n",
       " 'nu': 1,\n",
       " 'T_s_dim': 253.15,\n",
       " 'plotting': 1,\n",
       " 'saving_xt': 1,\n",
       " 'plotting_period': 3000,\n",
       " 'sampling_period': 20,\n",
       " 'dz': 0.01,\n",
       " 't_total': 20,\n",
       " 'save_dir': 'results_scratch',\n",
       " 'save': 1,\n",
       " 'sim_T': True,\n",
       " 'sim_r': True,\n",
       " 'PauseGrainEvolution_t': nan,\n",
       " 'z0': 100,\n",
       " 'r_s_dim': 2.5e-07,\n",
       " 'phi_s': 0.5,\n",
       " 'n': 'new_n',\n",
       " 'simDuration': 10,\n",
       " 'scaleDuration': 0,\n",
       " 'm': 'new_m',\n",
       " 'r_s_sim': 'new_value'}"
      ]
     },
     "execution_count": 183,
     "metadata": {},
     "output_type": "execute_result"
    }
   ],
   "source": [
    "s1.params\n"
   ]
  },
  {
   "cell_type": "code",
   "execution_count": 184,
   "id": "ba25309c-15bf-4821-a0aa-2cd799f12c0c",
   "metadata": {},
   "outputs": [
    {
     "data": {
      "text/plain": [
       "9.81"
      ]
     },
     "execution_count": 184,
     "metadata": {},
     "output_type": "execute_result"
    }
   ],
   "source": [
    "s1.g"
   ]
  },
  {
   "cell_type": "code",
   "execution_count": 74,
   "id": "53460889-68e2-42c8-8b9b-500ae416d891",
   "metadata": {},
   "outputs": [
    {
     "data": {
      "text/plain": [
       "array([10.81, 11.81, 12.81])"
      ]
     },
     "execution_count": 74,
     "metadata": {},
     "output_type": "execute_result"
    }
   ],
   "source": [
    "results"
   ]
  },
  {
   "cell_type": "code",
   "execution_count": 116,
   "id": "78852182-c489-4d87-804c-07ad15ef5181",
   "metadata": {},
   "outputs": [
    {
     "data": {
      "text/plain": [
       "['__class__',\n",
       " '__class_getitem__',\n",
       " '__contains__',\n",
       " '__delattr__',\n",
       " '__delitem__',\n",
       " '__dir__',\n",
       " '__doc__',\n",
       " '__eq__',\n",
       " '__format__',\n",
       " '__ge__',\n",
       " '__getattribute__',\n",
       " '__getitem__',\n",
       " '__gt__',\n",
       " '__hash__',\n",
       " '__init__',\n",
       " '__init_subclass__',\n",
       " '__ior__',\n",
       " '__iter__',\n",
       " '__le__',\n",
       " '__len__',\n",
       " '__lt__',\n",
       " '__ne__',\n",
       " '__new__',\n",
       " '__or__',\n",
       " '__reduce__',\n",
       " '__reduce_ex__',\n",
       " '__repr__',\n",
       " '__reversed__',\n",
       " '__ror__',\n",
       " '__setattr__',\n",
       " '__setitem__',\n",
       " '__sizeof__',\n",
       " '__str__',\n",
       " '__subclasshook__',\n",
       " 'clear',\n",
       " 'copy',\n",
       " 'fromkeys',\n",
       " 'get',\n",
       " 'items',\n",
       " 'keys',\n",
       " 'pop',\n",
       " 'popitem',\n",
       " 'setdefault',\n",
       " 'update',\n",
       " 'values']"
      ]
     },
     "execution_count": 116,
     "metadata": {},
     "output_type": "execute_result"
    }
   ],
   "source": [
    "dir({})"
   ]
  },
  {
   "cell_type": "code",
   "execution_count": 18,
   "id": "cd6e6885-c4ba-4a39-8c53-f9fdf46cb3a6",
   "metadata": {},
   "outputs": [],
   "source": [
    "fs.phi_s = 0.4\n"
   ]
  },
  {
   "cell_type": "code",
   "execution_count": 20,
   "id": "0ff1e994-ea5d-4e85-93e7-53bc63eb4e02",
   "metadata": {},
   "outputs": [
    {
     "data": {
      "text/plain": [
       "0.4"
      ]
     },
     "execution_count": 20,
     "metadata": {},
     "output_type": "execute_result"
    }
   ],
   "source": [
    "fs.phi_s"
   ]
  },
  {
   "cell_type": "code",
   "execution_count": 23,
   "id": "4e28f792-1f71-44c9-849f-bfd347ffe522",
   "metadata": {},
   "outputs": [
    {
     "ename": "TypeError",
     "evalue": "setupT() missing 1 required positional argument: 'self'",
     "output_type": "error",
     "traceback": [
      "\u001b[0;31m---------------------------------------------------------------------------\u001b[0m",
      "\u001b[0;31mTypeError\u001b[0m                                 Traceback (most recent call last)",
      "\u001b[0;32m/var/folders/gc/hfy654314d3gzj39h27fdx0r0000gn/T/ipykernel_9061/3629593924.py\u001b[0m in \u001b[0;36m<module>\u001b[0;34m\u001b[0m\n\u001b[0;32m----> 1\u001b[0;31m \u001b[0mfs\u001b[0m\u001b[0;34m.\u001b[0m\u001b[0msetupT\u001b[0m\u001b[0;34m(\u001b[0m\u001b[0;34m)\u001b[0m\u001b[0;34m\u001b[0m\u001b[0;34m\u001b[0m\u001b[0m\n\u001b[0m",
      "\u001b[0;31mTypeError\u001b[0m: setupT() missing 1 required positional argument: 'self'"
     ]
    }
   ],
   "source": [
    "fs.setupT()"
   ]
  },
  {
   "cell_type": "code",
   "execution_count": null,
   "id": "500e411a-4b53-409e-b845-69e07fa59e26",
   "metadata": {},
   "outputs": [],
   "source": []
  }
 ],
 "metadata": {
  "kernelspec": {
   "display_name": "Python 3",
   "language": "python",
   "name": "python3"
  },
  "language_info": {
   "codemirror_mode": {
    "name": "ipython",
    "version": 3
   },
   "file_extension": ".py",
   "mimetype": "text/x-python",
   "name": "python",
   "nbconvert_exporter": "python",
   "pygments_lexer": "ipython3",
   "version": "3.9.7"
  }
 },
 "nbformat": 4,
 "nbformat_minor": 5
}
